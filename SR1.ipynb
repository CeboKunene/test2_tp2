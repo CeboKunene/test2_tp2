{
 "cells": [
  {
   "cell_type": "raw",
   "id": "32b8e14b-15a7-495a-957b-781933f6fe2a",
   "metadata": {},
   "source": []
  },
  {
   "cell_type": "code",
   "execution_count": 1,
   "id": "8fb1a1bf-4ee4-4e9e-a09b-a5e84b386648",
   "metadata": {},
   "outputs": [],
   "source": [
    "import pandas as pd"
   ]
  },
  {
   "cell_type": "code",
   "execution_count": 2,
   "id": "a1a38068-3fa4-4885-9553-7406c2052be0",
   "metadata": {},
   "outputs": [],
   "source": [
    "data = pd.read_csv(\"C:/Users/Slindelo/Downloads/human settlement dataset/human settlement dataset.csv\")\n"
   ]
  },
  {
   "cell_type": "code",
   "execution_count": 12,
   "id": "68d54a29-d1ac-4f32-9467-85e8dc1e5954",
   "metadata": {},
   "outputs": [
    {
     "name": "stdout",
     "output_type": "stream",
     "text": [
      "       Country          Region  Happiness Rank  Happiness Score  \\\n",
      "0  Switzerland  Western Europe               1            7.587   \n",
      "1      Iceland  Western Europe               2            7.561   \n",
      "2      Denmark  Western Europe               3            7.527   \n",
      "3       Norway  Western Europe               4            7.522   \n",
      "4       Canada   North America               5            7.427   \n",
      "\n",
      "   Standard Error  Economy (GDP per Capita)   Family  \\\n",
      "0         0.03411                   1.39651  1.34951   \n",
      "1         0.04884                   1.30232  1.40223   \n",
      "2         0.03328                   1.32548  1.36058   \n",
      "3         0.03880                   1.45900  1.33095   \n",
      "4         0.03553                   1.32629  1.32261   \n",
      "\n",
      "   Health (Life Expectancy)  Freedom  Trust (Government Corruption)  \\\n",
      "0                   0.94143  0.66557                        0.41978   \n",
      "1                   0.94784  0.62877                        0.14145   \n",
      "2                   0.87464  0.64938                        0.48357   \n",
      "3                   0.88521  0.66973                        0.36503   \n",
      "4                   0.90563  0.63297                        0.32957   \n",
      "\n",
      "   Generosity  Dystopia Residual  \n",
      "0     0.29678            2.51738  \n",
      "1     0.43630            2.70201  \n",
      "2     0.34139            2.49204  \n",
      "3     0.34699            2.46531  \n",
      "4     0.45811            2.45176  \n"
     ]
    }
   ],
   "source": [
    "print(data.head())"
   ]
  },
  {
   "cell_type": "code",
   "execution_count": null,
   "id": "72e3c191-e95c-4f12-a973-3fbb48e27900",
   "metadata": {},
   "outputs": [],
   "source": [
    " "
   ]
  }
 ],
 "metadata": {
  "kernelspec": {
   "display_name": "Python 3 (ipykernel)",
   "language": "python",
   "name": "python3"
  },
  "language_info": {
   "codemirror_mode": {
    "name": "ipython",
    "version": 3
   },
   "file_extension": ".py",
   "mimetype": "text/x-python",
   "name": "python",
   "nbconvert_exporter": "python",
   "pygments_lexer": "ipython3",
   "version": "3.11.7"
  }
 },
 "nbformat": 4,
 "nbformat_minor": 5
}
