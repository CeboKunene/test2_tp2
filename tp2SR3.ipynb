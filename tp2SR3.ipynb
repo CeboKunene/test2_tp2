{
 "cells": [
  {
   "cell_type": "code",
   "execution_count": 1,
   "id": "46087307-51a8-4003-9be0-30a878e60a76",
   "metadata": {},
   "outputs": [],
   "source": [
    "import pandas as pd\n",
    "import matplotlib as plt\n",
    "import numpy as py\n",
    "import seaborn as sns"
   ]
  },
  {
   "cell_type": "code",
   "execution_count": 2,
   "id": "0e082f4a-8118-45ff-80cb-99e98753269a",
   "metadata": {},
   "outputs": [],
   "source": [
    "data = pd.read_csv(\"C:/Users/Slindelo/Downloads/human settlement dataset/human settlement dataset.csv\")"
   ]
  },
  {
   "cell_type": "code",
   "execution_count": 4,
   "id": "79076fff-e685-4632-8957-7bfb9657d5fa",
   "metadata": {},
   "outputs": [
    {
     "name": "stdout",
     "output_type": "stream",
     "text": [
      "       Happiness Rank  Happiness Score  Standard Error  \\\n",
      "count      158.000000       158.000000      158.000000   \n",
      "mean        79.493671         5.375734        0.047885   \n",
      "std         45.754363         1.145010        0.017146   \n",
      "min          1.000000         2.839000        0.018480   \n",
      "25%         40.250000         4.526000        0.037268   \n",
      "50%         79.500000         5.232500        0.043940   \n",
      "75%        118.750000         6.243750        0.052300   \n",
      "max        158.000000         7.587000        0.136930   \n",
      "\n",
      "       Economy (GDP per Capita)      Family  Health (Life Expectancy)  \\\n",
      "count                158.000000  158.000000                158.000000   \n",
      "mean                   0.846137    0.991046                  0.630259   \n",
      "std                    0.403121    0.272369                  0.247078   \n",
      "min                    0.000000    0.000000                  0.000000   \n",
      "25%                    0.545808    0.856823                  0.439185   \n",
      "50%                    0.910245    1.029510                  0.696705   \n",
      "75%                    1.158448    1.214405                  0.811013   \n",
      "max                    1.690420    1.402230                  1.025250   \n",
      "\n",
      "          Freedom  Trust (Government Corruption)  Generosity  \\\n",
      "count  158.000000                     158.000000  158.000000   \n",
      "mean     0.428615                       0.143422    0.237296   \n",
      "std      0.150693                       0.120034    0.126685   \n",
      "min      0.000000                       0.000000    0.000000   \n",
      "25%      0.328330                       0.061675    0.150553   \n",
      "50%      0.435515                       0.107220    0.216130   \n",
      "75%      0.549092                       0.180255    0.309883   \n",
      "max      0.669730                       0.551910    0.795880   \n",
      "\n",
      "       Dystopia Residual  \n",
      "count         158.000000  \n",
      "mean            2.098977  \n",
      "std             0.553550  \n",
      "min             0.328580  \n",
      "25%             1.759410  \n",
      "50%             2.095415  \n",
      "75%             2.462415  \n",
      "max             3.602140  \n"
     ]
    }
   ],
   "source": [
    "print(data.describe())\n"
   ]
  },
  {
   "cell_type": "code",
   "execution_count": null,
   "id": "4fb72f60-4536-4ae9-b732-c32417e5fa06",
   "metadata": {},
   "outputs": [],
   "source": [
    "raws = 5\n",
    "column_Name = 'Country'\n",
    "data_column = data[column_Name]\n",
    "data_raw = data_column.head(raws)\n",
    "\n",
    "column = 'Happiness Rank'\n",
    "Name = data[column]\n",
    "dataH = Name.head(raws)\n",
    "\n",
    "\n",
    "plt.pie(dataH, labels=data_raw,autopct='%1.1f%%',startangle=140)\n",
    "plt.title('countries AND Happiness Rank')\n",
    "plt.show()"
   ]
  },
  {
   "cell_type": "code",
   "execution_count": null,
   "id": "875eacfc-7450-49ff-a07c-30fc1b92f677",
   "metadata": {},
   "outputs": [],
   "source": [
    "sns.jointplot(x=data_raw,y=dataH,data=data,kind='plot')"
   ]
  },
  {
   "cell_type": "code",
   "execution_count": null,
   "id": "e3c7a1a1-b275-4ff9-914e-4ad75f46e4f7",
   "metadata": {},
   "outputs": [],
   "source": [
    "sns.set_style(\"whitegrid\")\n",
    "plt.figure(figsize=(12, 6))\n",
    "sns.lineplot( x=data_raw, y=dataH, data=data)\n",
    "plt.xlabel('Country')\n",
    "plt.ylabel('Happiness Rank')\n",
    "plt.show()"
   ]
  },
  {
   "cell_type": "code",
   "execution_count": null,
   "id": "3234ca40-2074-4d17-acf0-b2be6941b6e1",
   "metadata": {},
   "outputs": [],
   "source": [
    "plt.plot(data_raw,dataH, marker='o',linestyle='-',color='red')\n",
    "plt.title('Countries and Happiness Rank')\n",
    "plt.xlabel('Country')\n",
    "plt.ylabel('Happiness Rank')\n",
    "plt.xticks(rotation=45)\n",
    "plt.show()"
   ]
  },
  {
   "cell_type": "code",
   "execution_count": null,
   "id": "bfca0561-c6e0-4a7c-8688-782dc54f9bce",
   "metadata": {},
   "outputs": [],
   "source": [
    "plt.scatter(data_raw,dataH)\n",
    "plt.title('Scatter Plot Of Countries and Happiness Rank')\n",
    "plt.xlabel('Country')\n",
    "plt.ylabel('Happiness Rank')\n",
    "plt.show()"
   ]
  },
  {
   "cell_type": "code",
   "execution_count": null,
   "id": "f2abc34a-e290-4c22-ac2d-5d785a7391e2",
   "metadata": {},
   "outputs": [],
   "source": []
  }
 ],
 "metadata": {
  "kernelspec": {
   "display_name": "Python 3 (ipykernel)",
   "language": "python",
   "name": "python3"
  },
  "language_info": {
   "codemirror_mode": {
    "name": "ipython",
    "version": 3
   },
   "file_extension": ".py",
   "mimetype": "text/x-python",
   "name": "python",
   "nbconvert_exporter": "python",
   "pygments_lexer": "ipython3",
   "version": "3.11.7"
  }
 },
 "nbformat": 4,
 "nbformat_minor": 5
}
