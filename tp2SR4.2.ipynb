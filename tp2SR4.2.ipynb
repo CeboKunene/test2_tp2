{
 "cells": [
  {
   "cell_type": "code",
   "execution_count": 1,
   "id": "558004fc-882e-41a3-9220-69a511052ba1",
   "metadata": {},
   "outputs": [],
   "source": [
    "import pandas as pd\n",
    "import numpy as py"
   ]
  },
  {
   "cell_type": "code",
   "execution_count": 2,
   "id": "ae9a9f4b-b563-44fa-9f13-837c4695117d",
   "metadata": {},
   "outputs": [],
   "source": [
    "data = pd.read_csv(\"C:/Users/Slindelo/Downloads/human settlement dataset/human settlement dataset.csv\")"
   ]
  },
  {
   "cell_type": "code",
   "execution_count": 3,
   "id": "fef8dadf-0244-41f6-86b7-e385da91061f",
   "metadata": {},
   "outputs": [
    {
     "name": "stdout",
     "output_type": "stream",
     "text": [
      "Binary Search: Element not found\n"
     ]
    }
   ],
   "source": [
    "Happiness_list = data['Happiness Score'].tolist()\n",
    "def binary_search(arr, target):\n",
    "    low = 0\n",
    "    high = len(arr) - 1\n",
    "    while low <= high:\n",
    "        mid = (low + high) // 2\n",
    "        if arr[mid] == target:\n",
    "            return mid\n",
    "        elif arr[mid] < target:\n",
    "            low = mid + 1\n",
    "        else:\n",
    "            high = mid - 1\n",
    "    return -1\n",
    "sorted_Happiness_list = sorted(Happiness_list)\n",
    "target = 50293.0 \n",
    "binary_search_result = binary_search(sorted_Happiness_list, target)\n",
    "print(f'Binary Search: Element found{binary_search_result} at index {binary_search_result}'if binary_search_result != -1 else 'Binary Search: Element not found')"
   ]
  },
  {
   "cell_type": "code",
   "execution_count": null,
   "id": "870d3453-f444-4c21-879b-222ecb14973e",
   "metadata": {},
   "outputs": [],
   "source": []
  }
 ],
 "metadata": {
  "kernelspec": {
   "display_name": "Python 3 (ipykernel)",
   "language": "python",
   "name": "python3"
  },
  "language_info": {
   "codemirror_mode": {
    "name": "ipython",
    "version": 3
   },
   "file_extension": ".py",
   "mimetype": "text/x-python",
   "name": "python",
   "nbconvert_exporter": "python",
   "pygments_lexer": "ipython3",
   "version": "3.11.7"
  }
 },
 "nbformat": 4,
 "nbformat_minor": 5
}
